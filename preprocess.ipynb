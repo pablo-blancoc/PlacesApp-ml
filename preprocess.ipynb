{
 "cells": [
  {
   "cell_type": "markdown",
   "id": "54e6e0b2",
   "metadata": {},
   "source": [
    "## Move and verify images"
   ]
  },
  {
   "cell_type": "markdown",
   "id": "f1d9d9bd",
   "metadata": {},
   "source": [
    "### This notebook's only purpose is to move files inside the file system and verify that each file is indeed a png, jpeg, or gif image"
   ]
  },
  {
   "cell_type": "markdown",
   "id": "be83987e",
   "metadata": {},
   "source": [
    "**Import libraries**"
   ]
  },
  {
   "cell_type": "code",
   "execution_count": 1,
   "id": "77dc05e6",
   "metadata": {},
   "outputs": [],
   "source": [
    "import os\n",
    "import shutil"
   ]
  },
  {
   "cell_type": "markdown",
   "id": "12d7ba1f",
   "metadata": {},
   "source": [
    "**Set important variables**"
   ]
  },
  {
   "cell_type": "code",
   "execution_count": 2,
   "id": "4f13e2ce",
   "metadata": {},
   "outputs": [],
   "source": [
    "labels = [\n",
    "    \"coffee\",\n",
    "    \"burgers\",\n",
    "    \"drinks\",\n",
    "    \"italian\",\n",
    "    \"japanese\"\n",
    "]"
   ]
  },
  {
   "cell_type": "code",
   "execution_count": 3,
   "id": "b295cd0d",
   "metadata": {},
   "outputs": [],
   "source": [
    "PATH = \"/Users/pabloblanco/Desktop/Places/ml/datasets\""
   ]
  },
  {
   "cell_type": "code",
   "execution_count": 1,
   "id": "23b40f3c",
   "metadata": {},
   "outputs": [],
   "source": [
    "def is_image(filename, verbose=False):\n",
    "    \"\"\"\n",
    "    This function returns whether a file passed is a valid image or not\n",
    "    \"\"\"\n",
    "\n",
    "    data = open(filename,'rb').read(10)\n",
    "\n",
    "    # check if file is JPG or JPEG\n",
    "    if data[:3] == b'\\xff\\xd8\\xff':\n",
    "        if verbose == True:\n",
    "             print(filename+\" is: JPG/JPEG.\")\n",
    "        return True\n",
    "\n",
    "    # check if file is PNG\n",
    "    if data[:8] == b'\\x89\\x50\\x4e\\x47\\x0d\\x0a\\x1a\\x0a':\n",
    "        if verbose == True:\n",
    "             print(filename+\" is: PNG.\")\n",
    "        return True\n",
    "\n",
    "    # check if file is GIF\n",
    "    if data[:6] in [b'\\x47\\x49\\x46\\x38\\x37\\x61', b'\\x47\\x49\\x46\\x38\\x39\\x61']:\n",
    "        if verbose == True:\n",
    "             print(filename+\" is: GIF.\")\n",
    "        return True\n",
    "\n",
    "    return False"
   ]
  },
  {
   "cell_type": "code",
   "execution_count": 10,
   "id": "1d11f67c",
   "metadata": {},
   "outputs": [],
   "source": [
    "for label in labels:\n",
    "    _path = os.path.join(PATH, label)\n",
    "    names = os.listdir(_path)\n",
    "    for name in names:\n",
    "        if is_image(os.path.join(_path, name)):\n",
    "            # Replace all .jpg files to .jpeg which Tensorflow needs\n",
    "            os.rename(os.path.join(_path, name), os.path.join(_path, name.replace(\"jpg\", \"jpeg\")))\n",
    "        else:\n",
    "            os.remove(os.path.join(_path, name))"
   ]
  }
 ],
 "metadata": {
  "kernelspec": {
   "display_name": "Python 3 (ipykernel)",
   "language": "python",
   "name": "python3"
  },
  "language_info": {
   "codemirror_mode": {
    "name": "ipython",
    "version": 3
   },
   "file_extension": ".py",
   "mimetype": "text/x-python",
   "name": "python",
   "nbconvert_exporter": "python",
   "pygments_lexer": "ipython3",
   "version": "3.9.5"
  }
 },
 "nbformat": 4,
 "nbformat_minor": 5
}
